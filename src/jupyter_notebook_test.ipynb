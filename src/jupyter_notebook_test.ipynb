{
 "cells": [
  {
   "cell_type": "code",
   "execution_count": 5,
   "metadata": {},
   "outputs": [],
   "source": [
    "import os\n",
    "#os.chdir(r'C:\\\\Users\\\\floor\\\\Documents\\\\Studie\\\\Master Technical Medicine\\\\TM jaar 3\\\\Afstuderen\\\\ICK sleep project')\n",
    "import pandas as pd\n",
    "import pyedflib\n",
    "import numpy as np\n",
    "#from src.process_raw_data.EDFfiles import load_edf_file\n",
    "#from main import print_hi\n",
    "#from settings import RAW_DATA, INPUT_DATA\n",
    "\n",
    "# https://pyedflib.readthedocs.io/en/latest/ref/highlevel.html#pyedflib.highlevel.anonymize_edf"
   ]
  },
  {
   "cell_type": "markdown",
   "metadata": {},
   "source": [
    "#### 1. inladen data"
   ]
  },
  {
   "cell_type": "code",
   "execution_count": 17,
   "metadata": {},
   "outputs": [],
   "source": [
    "data_path = r'C:\\Users\\floor\\Documents\\Studie\\Master Technical Medicine\\TM jaar 3\\Afstuderen\\ICK_sleep_project\\data\\1_raw_data\\EDF_test_files'\n",
    "\n",
    "#edf_file  = r'C:\\Users\\floor\\Documents\\Studie\\Master Technical Medicine\\TM jaar 3\\Afstuderen\\EDF files\\ins6.edf'\n",
    "edf_file = os.path.join(data_path, '1410419_26112020.EDF')\n",
    "#edf_file = r'C:\\Users\\floor\\Documents\\Studie\\Master Technical Medicine\\TM jaar 3\\Afstuderen\\EDF files\\1410419_26112020.EDF'\n",
    "#edf_file = r'C:\\Users\\floor\\Documents\\Studie\\Master Technical Medicine\\TM jaar 3\\Afstuderen\\EDF files\\1438646_26112020.EDF'"
   ]
  },
  {
   "cell_type": "code",
   "execution_count": 8,
   "metadata": {},
   "outputs": [],
   "source": [
    "signals, signal_headers, header = pyedflib.highlevel.read_edf(file_name)"
   ]
  },
  {
   "cell_type": "code",
   "execution_count": 22,
   "metadata": {},
   "outputs": [
    {
     "data": {
      "text/plain": [
       "[array([-2060.82246128,  3066.11123827,  3123.33867399, ...,\n",
       "           10.79118029,    11.37712673,    13.13496605]),\n",
       " array([-2180.74616617,  3051.36491951,  3123.14335851, ...,\n",
       "           10.1075761 ,     9.91226062,    10.00991836]),\n",
       " array([-238.82200351, -236.47821775, -235.59929808, ...,    5.90829328,\n",
       "           5.32234684,    4.15045396]),\n",
       " array([-73.68276493,  67.33501183, 268.11932555, ...,   3.17387655,\n",
       "          2.58793011,   2.29495689]),\n",
       " array([-3165.33150225,  2024.20080873,  3123.63164721, ...,\n",
       "          -12.64667735,    -5.90829328,   -11.47478447]),\n",
       " array([-2107.50286107,  3057.4196994 ,  3123.24101625, ...,\n",
       "            9.52162966,     9.91226062,     9.81460288]),\n",
       " array([127., 127., 127., ..., 127., 127., 127.]),\n",
       " array([  0.,   0.,   0., ..., 255., 255., 255.]),\n",
       " array([-44., -44., -44., ..., -28., -28., -28.]),\n",
       " array([3125.19417105, 3125.78011749, 3125.19417105, ...,   43.40886549,\n",
       "         127.68749523,   72.21789883]),\n",
       " array([3123.82696269, 3124.41290913, 3123.82696269, ...,   33.447776  ,\n",
       "          64.20996414,   60.10833906]),\n",
       " array([6.35361257, 3.12309453, 2.07229725, ..., 2.19729915, 2.19729915,\n",
       "        2.19729915]),\n",
       " array([2.45409018e+03, 3.12382696e+03, 3.12392462e+03, ...,\n",
       "        8.93568322e+00, 1.39162280e+01, 1.90432593e+00]),\n",
       " array([-2119.71007858,  3056.73609522,  3122.75272755, ...,\n",
       "           10.69352255,    10.98649577,    10.49820706]),\n",
       " array([4., 4., 4., ..., 6., 6., 6.]),\n",
       " array([3.10521096, 2.0218204 , 3.02891585, ..., 3.08995193, 3.07469291,\n",
       "        3.02891585]),\n",
       " array([3126.85435264, 3126.56137942, 3126.95201038, ...,   49.36598764,\n",
       "         127.00389105,   76.41718166]),\n",
       " array([3126.7566949 , 3126.65903716, 3126.85435264, ...,   52.58869306,\n",
       "         125.44136721,  100.44098573]),\n",
       " array([3125.97543297, 3125.97543297, 3125.97543297, ...,  -41.16273747,\n",
       "          60.59662776,   97.70656901]),\n",
       " array([3125.97543297, 3126.36606394, 3125.97543297, ...,  -20.75226978,\n",
       "          25.14686809,  119.48424506]),\n",
       " array([3125.29182879, 3125.87777523, 3125.29182879, ...,   32.76417182,\n",
       "          68.21393149,   62.06149386]),\n",
       " array([3125.29182879, 3125.87777523, 3125.29182879, ...,   30.51804379,\n",
       "          66.35843442,   56.78797589]),\n",
       " array([3125.68245975, 3125.29182879, 3125.78011749, ...,   13.81857023,\n",
       "          88.33142596,  -90.08926528]),\n",
       " array([3124.99885557, 3124.90119783, 3125.09651331, ...,   49.65896086,\n",
       "         129.44533455,   77.78439002]),\n",
       " array([ 0., 78., 79., ..., 49., 49., 50.])]"
      ]
     },
     "execution_count": 22,
     "metadata": {},
     "output_type": "execute_result"
    }
   ],
   "source": [
    "\n",
    "signal_headers\n",
    "signals"
   ]
  },
  {
   "cell_type": "code",
   "execution_count": 23,
   "metadata": {},
   "outputs": [
    {
     "data": {
      "text/plain": [
       "{'label': 'EEG F4',\n",
       " 'dimension': 'uV',\n",
       " 'sample_rate': 256,\n",
       " 'physical_max': 3200.0,\n",
       " 'physical_min': -3200.0,\n",
       " 'digital_max': 32767,\n",
       " 'digital_min': -32768,\n",
       " 'prefilter': '',\n",
       " 'transducer': ''}"
      ]
     },
     "execution_count": 23,
     "metadata": {},
     "output_type": "execute_result"
    }
   ],
   "source": [
    "signals[17]\n",
    "signal_headers[17]"
   ]
  },
  {
   "cell_type": "code",
   "execution_count": 20,
   "metadata": {},
   "outputs": [
    {
     "name": "stdout",
     "output_type": "stream",
     "text": [
      "14469120\n"
     ]
    },
    {
     "data": {
      "text/plain": [
       "2"
      ]
     },
     "execution_count": 20,
     "metadata": {},
     "output_type": "execute_result"
    }
   ],
   "source": [
    "\n"
   ]
  },
  {
   "cell_type": "markdown",
   "metadata": {},
   "source": [
    "2. Annomize the files "
   ]
  },
  {
   "cell_type": "code",
   "execution_count": 18,
   "metadata": {},
   "outputs": [
    {
     "ename": "TypeError",
     "evalue": "'>=' not supported between instances of 'bytes' and 'int'",
     "output_type": "error",
     "traceback": [
      "\u001B[1;31m---------------------------------------------------------------------------\u001B[0m",
      "\u001B[1;31mTypeError\u001B[0m                                 Traceback (most recent call last)",
      "\u001B[1;32m<ipython-input-18-d8cff166d3ea>\u001B[0m in \u001B[0;36m<module>\u001B[1;34m\u001B[0m\n\u001B[1;32m----> 1\u001B[1;33m \u001B[0mpyedflib\u001B[0m\u001B[1;33m.\u001B[0m\u001B[0mhighlevel\u001B[0m\u001B[1;33m.\u001B[0m\u001B[0manonymize_edf\u001B[0m\u001B[1;33m(\u001B[0m\u001B[0medf_file\u001B[0m\u001B[1;33m,\u001B[0m \u001B[0mnew_file\u001B[0m\u001B[1;33m=\u001B[0m\u001B[1;32mNone\u001B[0m\u001B[1;33m,\u001B[0m \u001B[0mto_remove\u001B[0m\u001B[1;33m=\u001B[0m\u001B[1;33m[\u001B[0m\u001B[1;34m'patientname'\u001B[0m\u001B[1;33m,\u001B[0m \u001B[1;34m'birthdate'\u001B[0m\u001B[1;33m]\u001B[0m\u001B[1;33m,\u001B[0m \u001B[0mnew_values\u001B[0m\u001B[1;33m=\u001B[0m\u001B[1;33m[\u001B[0m\u001B[1;34m'xxx'\u001B[0m\u001B[1;33m,\u001B[0m \u001B[1;34m''\u001B[0m\u001B[1;33m]\u001B[0m\u001B[1;33m,\u001B[0m \u001B[0mverify\u001B[0m\u001B[1;33m=\u001B[0m\u001B[1;32mFalse\u001B[0m\u001B[1;33m)\u001B[0m\u001B[1;33m[\u001B[0m\u001B[0msource\u001B[0m\u001B[1;33m]\u001B[0m\u001B[1;33m\u001B[0m\u001B[1;33m\u001B[0m\u001B[0m\n\u001B[0m",
      "\u001B[1;32mc:\\users\\floor\\documents\\studie\\master technical medicine\\tm jaar 3\\afstuderen\\ick_sleep_project\\venv\\lib\\site-packages\\pyedflib\\highlevel.py\u001B[0m in \u001B[0;36manonymize_edf\u001B[1;34m(edf_file, new_file, to_remove, new_values, verify)\u001B[0m\n\u001B[0;32m    746\u001B[0m         \u001B[0mheader\u001B[0m\u001B[1;33m[\u001B[0m\u001B[0mattr\u001B[0m\u001B[1;33m]\u001B[0m \u001B[1;33m=\u001B[0m \u001B[0mnew_val\u001B[0m\u001B[1;33m\u001B[0m\u001B[1;33m\u001B[0m\u001B[0m\n\u001B[0;32m    747\u001B[0m \u001B[1;33m\u001B[0m\u001B[0m\n\u001B[1;32m--> 748\u001B[1;33m     \u001B[0mwrite_edf\u001B[0m\u001B[1;33m(\u001B[0m\u001B[0mnew_file\u001B[0m\u001B[1;33m,\u001B[0m \u001B[0msignals\u001B[0m\u001B[1;33m,\u001B[0m \u001B[0msignal_headers\u001B[0m\u001B[1;33m,\u001B[0m \u001B[0mheader\u001B[0m\u001B[1;33m,\u001B[0m \u001B[0mdigital\u001B[0m\u001B[1;33m=\u001B[0m\u001B[1;32mTrue\u001B[0m\u001B[1;33m)\u001B[0m\u001B[1;33m\u001B[0m\u001B[1;33m\u001B[0m\u001B[0m\n\u001B[0m\u001B[0;32m    749\u001B[0m     \u001B[1;32mif\u001B[0m \u001B[0mverify\u001B[0m\u001B[1;33m:\u001B[0m\u001B[1;33m\u001B[0m\u001B[1;33m\u001B[0m\u001B[0m\n\u001B[0;32m    750\u001B[0m         \u001B[0mcompare_edf\u001B[0m\u001B[1;33m(\u001B[0m\u001B[0medf_file\u001B[0m\u001B[1;33m,\u001B[0m \u001B[0mnew_file\u001B[0m\u001B[1;33m)\u001B[0m\u001B[1;33m\u001B[0m\u001B[1;33m\u001B[0m\u001B[0m\n",
      "\u001B[1;32mc:\\users\\floor\\documents\\studie\\master technical medicine\\tm jaar 3\\afstuderen\\ick_sleep_project\\venv\\lib\\site-packages\\pyedflib\\highlevel.py\u001B[0m in \u001B[0;36mwrite_edf\u001B[1;34m(edf_file, signals, signal_headers, header, digital, file_type, block_size)\u001B[0m\n\u001B[0;32m    489\u001B[0m         \u001B[0mf\u001B[0m\u001B[1;33m.\u001B[0m\u001B[0mwriteSamples\u001B[0m\u001B[1;33m(\u001B[0m\u001B[0msignals\u001B[0m\u001B[1;33m,\u001B[0m \u001B[0mdigital\u001B[0m\u001B[1;33m=\u001B[0m\u001B[0mdigital\u001B[0m\u001B[1;33m)\u001B[0m\u001B[1;33m\u001B[0m\u001B[1;33m\u001B[0m\u001B[0m\n\u001B[0;32m    490\u001B[0m         \u001B[1;32mfor\u001B[0m \u001B[0mannotation\u001B[0m \u001B[1;32min\u001B[0m \u001B[0mannotations\u001B[0m\u001B[1;33m:\u001B[0m\u001B[1;33m\u001B[0m\u001B[1;33m\u001B[0m\u001B[0m\n\u001B[1;32m--> 491\u001B[1;33m             \u001B[0mf\u001B[0m\u001B[1;33m.\u001B[0m\u001B[0mwriteAnnotation\u001B[0m\u001B[1;33m(\u001B[0m\u001B[1;33m*\u001B[0m\u001B[0mannotation\u001B[0m\u001B[1;33m)\u001B[0m\u001B[1;33m\u001B[0m\u001B[1;33m\u001B[0m\u001B[0m\n\u001B[0m\u001B[0;32m    492\u001B[0m     \u001B[1;32mdel\u001B[0m \u001B[0mf\u001B[0m\u001B[1;33m\u001B[0m\u001B[1;33m\u001B[0m\u001B[0m\n\u001B[0;32m    493\u001B[0m \u001B[1;33m\u001B[0m\u001B[0m\n",
      "\u001B[1;32mc:\\users\\floor\\documents\\studie\\master technical medicine\\tm jaar 3\\afstuderen\\ick_sleep_project\\venv\\lib\\site-packages\\pyedflib\\edfwriter.py\u001B[0m in \u001B[0;36mwriteAnnotation\u001B[1;34m(self, onset_in_seconds, duration_in_seconds, description, str_format)\u001B[0m\n\u001B[0;32m    734\u001B[0m             \u001B[1;32mraise\u001B[0m \u001B[0mTypeError\u001B[0m\u001B[1;33m(\u001B[0m\u001B[1;34m'Trying to write annotation to EDF/BDF, must use EDF+/BDF+'\u001B[0m\u001B[1;33m)\u001B[0m\u001B[1;33m\u001B[0m\u001B[1;33m\u001B[0m\u001B[0m\n\u001B[0;32m    735\u001B[0m         \u001B[1;32mif\u001B[0m \u001B[0mstr_format\u001B[0m \u001B[1;33m==\u001B[0m \u001B[1;34m'utf-8'\u001B[0m\u001B[1;33m:\u001B[0m\u001B[1;33m\u001B[0m\u001B[1;33m\u001B[0m\u001B[0m\n\u001B[1;32m--> 736\u001B[1;33m             \u001B[1;32mif\u001B[0m \u001B[0mduration_in_seconds\u001B[0m \u001B[1;33m>=\u001B[0m \u001B[1;36m0\u001B[0m\u001B[1;33m:\u001B[0m\u001B[1;33m\u001B[0m\u001B[1;33m\u001B[0m\u001B[0m\n\u001B[0m\u001B[0;32m    737\u001B[0m                 \u001B[1;32mreturn\u001B[0m \u001B[0mwrite_annotation_utf8\u001B[0m\u001B[1;33m(\u001B[0m\u001B[0mself\u001B[0m\u001B[1;33m.\u001B[0m\u001B[0mhandle\u001B[0m\u001B[1;33m,\u001B[0m \u001B[0mnp\u001B[0m\u001B[1;33m.\u001B[0m\u001B[0mround\u001B[0m\u001B[1;33m(\u001B[0m\u001B[0monset_in_seconds\u001B[0m\u001B[1;33m*\u001B[0m\u001B[1;36m10000\u001B[0m\u001B[1;33m)\u001B[0m\u001B[1;33m.\u001B[0m\u001B[0mastype\u001B[0m\u001B[1;33m(\u001B[0m\u001B[0mint\u001B[0m\u001B[1;33m)\u001B[0m\u001B[1;33m,\u001B[0m \u001B[0mnp\u001B[0m\u001B[1;33m.\u001B[0m\u001B[0mround\u001B[0m\u001B[1;33m(\u001B[0m\u001B[0mduration_in_seconds\u001B[0m\u001B[1;33m*\u001B[0m\u001B[1;36m10000\u001B[0m\u001B[1;33m)\u001B[0m\u001B[1;33m.\u001B[0m\u001B[0mastype\u001B[0m\u001B[1;33m(\u001B[0m\u001B[0mint\u001B[0m\u001B[1;33m)\u001B[0m\u001B[1;33m,\u001B[0m \u001B[0mdu\u001B[0m\u001B[1;33m(\u001B[0m\u001B[0mdescription\u001B[0m\u001B[1;33m)\u001B[0m\u001B[1;33m)\u001B[0m\u001B[1;33m\u001B[0m\u001B[1;33m\u001B[0m\u001B[0m\n\u001B[0;32m    738\u001B[0m             \u001B[1;32melse\u001B[0m\u001B[1;33m:\u001B[0m\u001B[1;33m\u001B[0m\u001B[1;33m\u001B[0m\u001B[0m\n",
      "\u001B[1;31mTypeError\u001B[0m: '>=' not supported between instances of 'bytes' and 'int'"
     ]
    }
   ],
   "source": [
    "pyedflib.highlevel.anonymize_edf(edf_file, new_file=None, to_remove=['patientname', 'birthdate'], new_values=['xxx', ''], verify=False)[source]"
   ]
  },
  {
   "cell_type": "code",
   "execution_count": null,
   "metadata": {},
   "outputs": [],
   "source": []
  }
 ],
 "metadata": {
  "kernelspec": {
   "display_name": "Python 3",
   "language": "python",
   "name": "python3"
  },
  "language_info": {
   "codemirror_mode": {
    "name": "ipython",
    "version": 3
   },
   "file_extension": ".py",
   "mimetype": "text/x-python",
   "name": "python",
   "nbconvert_exporter": "python",
   "pygments_lexer": "ipython3",
   "version": "3.9.1"
  }
 },
 "nbformat": 4,
 "nbformat_minor": 2
}