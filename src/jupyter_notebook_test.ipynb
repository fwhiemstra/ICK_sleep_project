{
 "cells": [
  {
   "cell_type": "code",
   "execution_count": 2,
   "metadata": {},
   "outputs": [],
   "source": [
    "import os\n",
    "os.chdir(r'C:\\\\Users\\\\floor\\\\Documents\\\\Studie\\\\Master Technical Medicine\\\\TM jaar 3\\\\Afstuderen\\\\ICK sleep project')\n",
    "import pandas as pd\n",
    "import pyedflib\n",
    "from src.process_raw_data.EDFfiles import load_edf_file\n",
    "from main import print_hi\n",
    "from settings import RAW_DATA, INPUT_DATA"
   ]
  },
  {
   "cell_type": "code",
   "execution_count": 18,
   "metadata": {},
   "outputs": [],
   "source": [
    "load_edf_file('')"
   ]
  },
  {
   "cell_type": "markdown",
   "metadata": {},
   "source": [
    "#### 1. inladen data"
   ]
  },
  {
   "cell_type": "code",
   "execution_count": 1,
   "metadata": {},
   "outputs": [
    {
     "ename": "NameError",
     "evalue": "name 'os' is not defined",
     "output_type": "error",
     "traceback": [
      "\u001B[1;31m---------------------------------------------------------------------------\u001B[0m",
      "\u001B[1;31mNameError\u001B[0m                                 Traceback (most recent call last)",
      "\u001B[1;32m<ipython-input-1-87c0be6acee4>\u001B[0m in \u001B[0;36m<module>\u001B[1;34m\u001B[0m\n\u001B[0;32m      2\u001B[0m \u001B[1;33m\u001B[0m\u001B[0m\n\u001B[0;32m      3\u001B[0m \u001B[1;31m#file_name  = r'C:\\Users\\floor\\Documents\\Studie\\Master Technical Medicine\\TM jaar 3\\Afstuderen\\EDF files\\ins6.edf'\u001B[0m\u001B[1;33m\u001B[0m\u001B[1;33m\u001B[0m\u001B[1;33m\u001B[0m\u001B[0m\n\u001B[1;32m----> 4\u001B[1;33m \u001B[0mfile_name\u001B[0m \u001B[1;33m=\u001B[0m \u001B[0mos\u001B[0m\u001B[1;33m.\u001B[0m\u001B[0mpath\u001B[0m\u001B[1;33m.\u001B[0m\u001B[0mjoin\u001B[0m\u001B[1;33m(\u001B[0m\u001B[0mRAW_DATA\u001B[0m\u001B[1;33m,\u001B[0m\u001B[1;34m'EDF_test_files'\u001B[0m\u001B[1;33m,\u001B[0m \u001B[1;34m'1410419_26112020.EDF'\u001B[0m\u001B[1;33m)\u001B[0m\u001B[1;33m\u001B[0m\u001B[1;33m\u001B[0m\u001B[0m\n\u001B[0m\u001B[0;32m      5\u001B[0m \u001B[1;31m#file_name = r'C:\\Users\\floor\\Documents\\Studie\\Master Technical Medicine\\TM jaar 3\\Afstuderen\\EDF files\\1410419_26112020.EDF'\u001B[0m\u001B[1;33m\u001B[0m\u001B[1;33m\u001B[0m\u001B[1;33m\u001B[0m\u001B[0m\n\u001B[0;32m      6\u001B[0m \u001B[1;31m#file_name = r'C:\\Users\\floor\\Documents\\Studie\\Master Technical Medicine\\TM jaar 3\\Afstuderen\\EDF files\\1438646_26112020.EDF'\u001B[0m\u001B[1;33m\u001B[0m\u001B[1;33m\u001B[0m\u001B[1;33m\u001B[0m\u001B[0m\n",
      "\u001B[1;31mNameError\u001B[0m: name 'os' is not defined"
     ]
    }
   ],
   "source": [
    "import numpy\n",
    "\n",
    "#file_name  = r'C:\\Users\\floor\\Documents\\Studie\\Master Technical Medicine\\TM jaar 3\\Afstuderen\\EDF files\\ins6.edf'\n",
    "file_name = os.path.join(RAW_DATA,'EDF_test_files', '1410419_26112020.EDF')\n",
    "#file_name = r'C:\\Users\\floor\\Documents\\Studie\\Master Technical Medicine\\TM jaar 3\\Afstuderen\\EDF files\\1410419_26112020.EDF'\n",
    "#file_name = r'C:\\Users\\floor\\Documents\\Studie\\Master Technical Medicine\\TM jaar 3\\Afstuderen\\EDF files\\1438646_26112020.EDF'"
   ]
  },
  {
   "cell_type": "code",
   "execution_count": 28,
   "metadata": {},
   "outputs": [],
   "source": [
    "signal = pyedflib.EdfReader(file_name)\n"
   ]
  },
  {
   "cell_type": "code",
   "execution_count": 7,
   "metadata": {},
   "outputs": [],
   "source": [
    "signals, signal_headers, header = pyedflib.highlevel.read_edf(file_name)"
   ]
  },
  {
   "cell_type": "code",
   "execution_count": 20,
   "metadata": {},
   "outputs": [
    {
     "name": "stdout",
     "output_type": "stream",
     "text": [
      "14469120\n"
     ]
    },
    {
     "data": {
      "text/plain": [
       "2"
      ]
     },
     "execution_count": 20,
     "metadata": {},
     "output_type": "execute_result"
    }
   ],
   "source": [
    "signals\n"
   ]
  },
  {
   "cell_type": "code",
   "execution_count": null,
   "metadata": {},
   "outputs": [],
   "source": []
  }
 ],
 "metadata": {
  "kernelspec": {
   "display_name": "Python 3",
   "language": "python",
   "name": "python3"
  },
  "language_info": {
   "codemirror_mode": {
    "name": "ipython",
    "version": 3
   },
   "file_extension": ".py",
   "mimetype": "text/x-python",
   "name": "python",
   "nbconvert_exporter": "python",
   "pygments_lexer": "ipython3",
   "version": "3.9.1"
  }
 },
 "nbformat": 4,
 "nbformat_minor": 2
}